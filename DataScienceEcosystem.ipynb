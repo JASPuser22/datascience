{
  "metadata": {
    "kernelspec": {
      "name": "python",
      "display_name": "Python (Pyodide)",
      "language": "python"
    },
    "language_info": {
      "codemirror_mode": {
        "name": "python",
        "version": 3
      },
      "file_extension": ".py",
      "mimetype": "text/x-python",
      "name": "python",
      "nbconvert_exporter": "python",
      "pygments_lexer": "ipython3",
      "version": "3.8"
    }
  },
  "nbformat_minor": 5,
  "nbformat": 4,
  "cells": [
    {
      "id": "32eb202d-0904-4524-a78a-259de82919bb",
      "cell_type": "markdown",
      "source": "# Data Science Tools and Ecosystem",
      "metadata": {}
    },
    {
      "id": "df48c3c8-b600-4f52-b9d0-f1319337b57e",
      "cell_type": "markdown",
      "source": "In this notebook, Data Science Tools and Ecosystem are summarized.",
      "metadata": {}
    },
    {
      "id": "f9b3f82c-3222-4e13-b81d-7db139f76a0a",
      "cell_type": "markdown",
      "source": "**Objectives**\n- List popular languages\n- List commonly used libraries\n- Brag with tables\n- Show arithmetic expressions in Python\n\n  ## Author\n  Holger Zapf",
      "metadata": {}
    },
    {
      "id": "ff4ef4c8-fb0d-4625-a14c-0758ceec9e26",
      "cell_type": "markdown",
      "source": "Some of the popular languages that Data Scientists use are:\n1. R\n2. Python\n3. SQL\n4. Java",
      "metadata": {}
    },
    {
      "id": "7a7ab7a1-e640-48fe-861c-6a8341d64f9f",
      "cell_type": "markdown",
      "source": "Some of the commonly used libraries used by Data Scientists include:\n1. NumPy\n2. Plotly\n3. Pandas\n4. TensorFlow",
      "metadata": {}
    },
    {
      "id": "926423ad-214b-4e8f-a763-a4c2b961a013",
      "cell_type": "markdown",
      "source": "|Data Science Tools|\n|:---------|\n|Python|\n|R|\n|Pandas|",
      "metadata": {}
    },
    {
      "id": "937b88f3-393e-49d2-8d72-d179a131bb53",
      "cell_type": "markdown",
      "source": "### Below are a few examples of evaluating arithmetic expressions in Python",
      "metadata": {}
    },
    {
      "id": "8df7d45b-ae55-4719-ba57-0012f58248d7",
      "cell_type": "code",
      "source": "#This a simple arithmetic expression to mutiply then add integers\n(3*4)+5",
      "metadata": {
        "trusted": true
      },
      "outputs": [
        {
          "execution_count": 3,
          "output_type": "execute_result",
          "data": {
            "text/plain": "17"
          },
          "metadata": {}
        }
      ],
      "execution_count": 3
    },
    {
      "id": "a55d65b8-51e4-4c93-bb7b-bebe7540f68c",
      "cell_type": "code",
      "source": "#This will convert 200 minutes to hours by diving by 60\n200/60",
      "metadata": {
        "trusted": true
      },
      "outputs": [
        {
          "execution_count": 4,
          "output_type": "execute_result",
          "data": {
            "text/plain": "3.3333333333333335"
          },
          "metadata": {}
        }
      ],
      "execution_count": 4
    },
    {
      "id": "0ff0d1bc-e884-4154-a061-22decbc9f8b4",
      "cell_type": "code",
      "source": "",
      "metadata": {
        "trusted": true
      },
      "outputs": [],
      "execution_count": null
    }
  ]
}